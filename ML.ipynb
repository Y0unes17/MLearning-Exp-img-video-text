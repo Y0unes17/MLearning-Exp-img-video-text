{
  "nbformat": 4,
  "nbformat_minor": 0,
  "metadata": {
    "colab": {
      "name": "ML-tp1.ipynb",
      "provenance": [],
      "collapsed_sections": [],
      "toc_visible": true
    },
    "kernelspec": {
      "name": "python3",
      "display_name": "Python 3"
    }
  },
  "cells": [
    {
      "cell_type": "code",
      "metadata": {
        "id": "JS_nr4b9owo7",
        "colab_type": "code",
        "colab": {}
      },
      "source": [
        "import pandas as pd\n",
        "import numpy as np\n",
        "import matplotlib.pyplot as plt\n"
      ],
      "execution_count": 0,
      "outputs": []
    },
    {
      "cell_type": "code",
      "metadata": {
        "id": "jNf-OftqpX25",
        "colab_type": "code",
        "outputId": "7537ff43-ef0d-41f9-fda9-c45d664e46b4",
        "colab": {
          "base_uri": "https://localhost:8080/",
          "height": 153
        }
      },
      "source": [
        "from skimage.io import imread, imshow\n",
        "image = imread('11.jpg', as_gray=True)\n",
        "print (image.shape)\n",
        "print (image)"
      ],
      "execution_count": 0,
      "outputs": [
        {
          "output_type": "stream",
          "text": [
            "(1024, 791)\n",
            "[[1. 1. 1. ... 1. 1. 1.]\n",
            " [1. 1. 1. ... 1. 1. 1.]\n",
            " [1. 1. 1. ... 1. 1. 1.]\n",
            " ...\n",
            " [1. 1. 1. ... 1. 1. 1.]\n",
            " [1. 1. 1. ... 1. 1. 1.]\n",
            " [1. 1. 1. ... 1. 1. 1.]]\n"
          ],
          "name": "stdout"
        }
      ]
    },
    {
      "cell_type": "code",
      "metadata": {
        "id": "EgYPcE0z3b1j",
        "colab_type": "code",
        "outputId": "1018fddb-07ee-452c-a734-c6aad68136b3",
        "colab": {
          "base_uri": "https://localhost:8080/",
          "height": 532
        }
      },
      "source": [
        "!pip install opencv-python==3.4.2.16\n",
        "!pip install opencv-contrib-python==3.4.2.16"
      ],
      "execution_count": 0,
      "outputs": [
        {
          "output_type": "stream",
          "text": [
            "Collecting opencv-python==3.4.2.16\n",
            "\u001b[?25l  Downloading https://files.pythonhosted.org/packages/fa/7d/5042b668a8ed41d2a80b8c172f5efcd572e3c046c75ae029407e19b7fc68/opencv_python-3.4.2.16-cp36-cp36m-manylinux1_x86_64.whl (25.0MB)\n",
            "\u001b[K     |████████████████████████████████| 25.0MB 1.3MB/s \n",
            "\u001b[?25hRequirement already satisfied: numpy>=1.11.3 in /usr/local/lib/python3.6/dist-packages (from opencv-python==3.4.2.16) (1.17.5)\n",
            "\u001b[31mERROR: albumentations 0.1.12 has requirement imgaug<0.2.7,>=0.2.5, but you'll have imgaug 0.2.9 which is incompatible.\u001b[0m\n",
            "Installing collected packages: opencv-python\n",
            "  Found existing installation: opencv-python 4.1.2.30\n",
            "    Uninstalling opencv-python-4.1.2.30:\n",
            "      Successfully uninstalled opencv-python-4.1.2.30\n",
            "Successfully installed opencv-python-3.4.2.16\n"
          ],
          "name": "stdout"
        },
        {
          "output_type": "display_data",
          "data": {
            "application/vnd.colab-display-data+json": {
              "pip_warning": {
                "packages": [
                  "cv2"
                ]
              }
            }
          },
          "metadata": {
            "tags": []
          }
        },
        {
          "output_type": "stream",
          "text": [
            "Collecting opencv-contrib-python==3.4.2.16\n",
            "\u001b[?25l  Downloading https://files.pythonhosted.org/packages/08/f1/66330f4042c4fb3b2d77a159db8e8916d9cdecc29bc8c1f56bc7f8a9bec9/opencv_contrib_python-3.4.2.16-cp36-cp36m-manylinux1_x86_64.whl (30.6MB)\n",
            "\u001b[K     |████████████████████████████████| 30.6MB 146kB/s \n",
            "\u001b[?25hRequirement already satisfied: numpy>=1.11.3 in /usr/local/lib/python3.6/dist-packages (from opencv-contrib-python==3.4.2.16) (1.17.5)\n",
            "Installing collected packages: opencv-contrib-python\n",
            "  Found existing installation: opencv-contrib-python 4.1.2.30\n",
            "    Uninstalling opencv-contrib-python-4.1.2.30:\n",
            "      Successfully uninstalled opencv-contrib-python-4.1.2.30\n",
            "Successfully installed opencv-contrib-python-3.4.2.16\n"
          ],
          "name": "stdout"
        },
        {
          "output_type": "display_data",
          "data": {
            "application/vnd.colab-display-data+json": {
              "pip_warning": {
                "packages": [
                  "cv2"
                ]
              }
            }
          },
          "metadata": {
            "tags": []
          }
        }
      ]
    },
    {
      "cell_type": "code",
      "metadata": {
        "id": "QJUzWKyGyRlP",
        "colab_type": "code",
        "outputId": "19ac6683-72a2-476d-f948-cd91deb61e26",
        "colab": {
          "base_uri": "https://localhost:8080/",
          "height": 34
        }
      },
      "source": [
        "#SIFT\n",
        "#!pip install opencv-python==3.4.2.16\n",
        "#!pip install opencv-contrib-python==3.4.2.16\n",
        "\n",
        "import cv2\n",
        "import numpy as np\n",
        "img=cv2.imread('11.jpg')\n",
        "gray= cv2.cvtColor(img,cv2.COLOR_BGR2GRAY)\n",
        "\n",
        "sift=cv2.xfeatures2d.SIFT_create()\n",
        "\n",
        "kp,kd=sift.detectAndCompute(gray,None)\n",
        "\n",
        "img2= cv2.drawKeypoints(img, kp, outImage = None, color=(255,0,0))\n",
        "#img=cv2.drawKeypoints(gray,kp)\n",
        "cv2.imwrite('12.jpg',img2)\n",
        "\n",
        "print(len(kd[0]))"
      ],
      "execution_count": 0,
      "outputs": [
        {
          "output_type": "stream",
          "text": [
            "128\n"
          ],
          "name": "stdout"
        }
      ]
    },
    {
      "cell_type": "code",
      "metadata": {
        "id": "tlCQQvVE_vRB",
        "colab_type": "code",
        "outputId": "5c72491c-7f6d-467d-ad28-4562bec829fa",
        "colab": {
          "base_uri": "https://localhost:8080/",
          "height": 68
        }
      },
      "source": [
        "#audio\n",
        "import os\n",
        "import matplotlib.pyplot as plt\n",
        "from scipy.io import wavfile\n",
        "import numpy as np \n",
        "import librosa\n",
        "import librosa.display\n",
        "y,sr=librosa.load('1.wav')\n",
        "S=librosa.feature.melspectrogram(y=y,sr=sr,n_mels=512,n_fft=2048)\n",
        "fig=plt.figure()\n",
        "librosa.display.specshow(librosa.power_to_db(S,ref=np.max))\n",
        "plt.axis('off')\n",
        "plt.tight_layout()\n",
        "fig.savefig(\"im.jpeg\",dpi=50,frameon='false')\n",
        "plt.close()"
      ],
      "execution_count": 0,
      "outputs": [
        {
          "output_type": "stream",
          "text": [
            "/usr/local/lib/python3.6/dist-packages/ipykernel_launcher.py:13: MatplotlibDeprecationWarning: \n",
            "The frameon kwarg was deprecated in Matplotlib 3.1 and will be removed in 3.3. Use facecolor instead.\n",
            "  del sys.path[0]\n"
          ],
          "name": "stderr"
        }
      ]
    },
    {
      "cell_type": "code",
      "metadata": {
        "id": "XJtvwJIg79sn",
        "colab_type": "code",
        "outputId": "ebaa2f74-41de-444a-b46c-915bcac17381",
        "colab": {
          "base_uri": "https://localhost:8080/",
          "height": 510
        }
      },
      "source": [
        "#text\n",
        "import nltk\n",
        "import gensim\n",
        "nltk.download('abc')\n",
        "from nltk.corpus import abc\n",
        "nltk.download('punkt')\n",
        "model=gensim.models.Word2Vec(abc.sents())\n",
        "x=list(model.wv.vocab)\n",
        "data=model.wv['science']\n",
        "print(data)"
      ],
      "execution_count": 0,
      "outputs": [
        {
          "output_type": "stream",
          "text": [
            "[nltk_data] Downloading package abc to /root/nltk_data...\n",
            "[nltk_data]   Package abc is already up-to-date!\n",
            "[nltk_data] Downloading package punkt to /root/nltk_data...\n",
            "[nltk_data]   Package punkt is already up-to-date!\n",
            "[ 2.45254263e-01  1.31517828e-01 -2.30070487e-01 -2.07762524e-01\n",
            "  1.04200520e-01 -1.55027255e-01 -5.10862749e-03 -1.70975462e-01\n",
            " -1.16130829e-01 -1.73577949e-01  2.58187763e-02  2.53157467e-01\n",
            " -2.24881843e-01 -2.28613764e-02 -4.29070219e-02  2.55227476e-01\n",
            " -2.95404911e-01 -4.93593395e-01 -3.39941889e-01 -3.94232005e-01\n",
            " -1.54274106e-01  2.00282171e-01  1.66801754e-02 -2.60160059e-01\n",
            "  3.70493568e-02  3.12185764e-01 -4.49221544e-02 -4.11113769e-01\n",
            "  4.47207063e-01 -1.24757625e-01  3.09862215e-02  1.28402218e-01\n",
            "  5.73806107e-01 -2.17865840e-01  5.42759299e-01  3.35121267e-02\n",
            "  2.08285362e-01  1.80820137e-01 -1.81766063e-01 -2.92717874e-01\n",
            "  1.72843680e-01  1.47667542e-01 -3.47996593e-01 -3.03195655e-01\n",
            " -8.47706664e-03 -2.20846310e-01  2.14781463e-01  7.83798918e-02\n",
            "  2.31263176e-01  5.78341007e-01  7.29683265e-02 -1.08788602e-01\n",
            " -4.07191546e-04 -1.29176214e-01  2.07081497e-01 -5.46086609e-01\n",
            " -1.23127475e-01  5.22787571e-01  1.42549381e-01 -2.24653259e-01\n",
            " -4.89507616e-02  1.34687091e-03 -3.19574587e-02 -3.19368809e-01\n",
            " -2.55105466e-01  7.43566871e-01  2.17263758e-01  3.04052867e-02\n",
            "  1.69600815e-01  4.84357774e-02  1.14850856e-01  3.49767327e-01\n",
            " -2.07413167e-01  3.75613780e-03  3.57817739e-01  1.34000972e-01\n",
            " -1.25487685e-01  2.15827957e-01  2.57040970e-02 -3.56948912e-01\n",
            " -1.60667986e-01 -1.61829248e-01  2.51414835e-01 -3.00816268e-01\n",
            "  4.26031984e-02  4.06003386e-01 -2.01474264e-01 -6.60058498e-01\n",
            " -1.16660208e-01  7.87630454e-02 -2.08775736e-02  2.35892907e-01\n",
            "  2.13461295e-02 -1.77335992e-01  2.83475161e-01 -1.02383271e-01\n",
            " -5.57376981e-01  5.53380698e-02 -1.87893167e-01  3.09409827e-01]\n"
          ],
          "name": "stdout"
        }
      ]
    }
  ]
}